{
  "nbformat": 4,
  "nbformat_minor": 0,
  "metadata": {
    "colab": {
      "provenance": [],
      "authorship_tag": "ABX9TyPZS55isJMU291ZZbv/nhWi",
      "include_colab_link": true
    },
    "kernelspec": {
      "name": "python3",
      "display_name": "Python 3"
    },
    "language_info": {
      "name": "python"
    }
  },
  "cells": [
    {
      "cell_type": "markdown",
      "metadata": {
        "id": "view-in-github",
        "colab_type": "text"
      },
      "source": [
        "<a href=\"https://colab.research.google.com/github/ThisIsFarhan/LangGraph-Practice/blob/main/9_ChatBot_Memory.ipynb\" target=\"_parent\"><img src=\"https://colab.research.google.com/assets/colab-badge.svg\" alt=\"Open In Colab\"/></a>"
      ]
    },
    {
      "cell_type": "code",
      "execution_count": 1,
      "metadata": {
        "id": "aODHw4oC7YLh"
      },
      "outputs": [],
      "source": [
        "%%capture --no-stderr\n",
        "%pip install --quiet -U langchain_core langgraph langchain_groq langsmith"
      ]
    },
    {
      "cell_type": "code",
      "source": [
        "from google.colab import userdata\n",
        "groq_api_key=userdata.get('groq_api_key')\n",
        "langsmith=userdata.get('LANGSMITH_API_KEY')\n",
        "\n",
        "import os\n",
        "os.environ[\"LANGCHAIN_API_KEY\"] = langsmith\n",
        "os.environ[\"LANGCHAIN_TRACING_V2\"]=\"true\"\n",
        "os.environ[\"LANGCHAIN_PROJECT\"]=\"ChatBot with Memory\""
      ],
      "metadata": {
        "id": "O07lsC67FT5q"
      },
      "execution_count": 2,
      "outputs": []
    },
    {
      "cell_type": "code",
      "source": [
        "from langchain_groq import ChatGroq\n",
        "llm=ChatGroq(groq_api_key=groq_api_key,model_name=\"Gemma2-9b-It\")"
      ],
      "metadata": {
        "id": "-pL5P0TIGO6p"
      },
      "execution_count": 3,
      "outputs": []
    },
    {
      "cell_type": "code",
      "source": [
        "from langgraph.graph import MessagesState\n",
        "from langchain_core.messages import SystemMessage, HumanMessage, RemoveMessage\n",
        "from langgraph.graph import StateGraph, START, END\n",
        "from IPython.display import Image, display\n",
        "from langgraph.checkpoint.memory import MemorySaver\n",
        "\n",
        "class State(MessagesState):\n",
        "  summary:str\n",
        "\n",
        "# Check if the summary exist\n",
        "def call_model(state:State):\n",
        "  summary = state.get('summary',\"\")\n",
        "  if summary:\n",
        "    system_msg = f\"Summary of conversation earlier: {summary}\"\n",
        "    messages = [SystemMessage(content=system_msg)] + state[\"messages\"]\n",
        "  else:\n",
        "    messages = state[\"messages\"]\n",
        "\n",
        "  response = llm.invoke(messages)\n",
        "  return {\"messages\":response}\n",
        "\n",
        "\n",
        "#Summarization Node\n",
        "def summarize_chat(state:State):\n",
        "  summary = state.get(\"summary\",\"\")\n",
        "  if summary:\n",
        "    summary_msg = f\"This is the summary of the conversation to date: {summary}\\nExtend the summary according to the messages above\"\n",
        "  else:\n",
        "    summary_msg = \"Make the summary according to the messages above\"\n",
        "\n",
        "  messages = state[\"messages\"] + [HumanMessage(content=summary_msg)]\n",
        "  response = llm.invoke(messages)\n",
        "\n",
        "  delete_messages = [RemoveMessage(id=m.id) for m in state[\"messages\"][:-2]]\n",
        "  return {\"summary\":response.content,\"messages\":delete_messages}\n",
        "\n",
        "#Conditional Node\n",
        "def should_summarize(state:State):\n",
        "  messages = state[\"messages\"]\n",
        "  if len(messages) > 6:\n",
        "    return \"summarize_chat\"\n",
        "  else:\n",
        "    return END\n",
        "\n",
        "builder = StateGraph(State)\n",
        "builder.add_node(call_model,\"call_model\")\n",
        "builder.add_node(summarize_chat,\"summarize_chat\")\n",
        "\n",
        "builder.add_edge(START,\"call_model\")\n",
        "builder.add_conditional_edges(\"call_model\",should_summarize)\n",
        "builder.add_edge(\"summarize_chat\",END)\n",
        "\n",
        "memory = MemorySaver()\n",
        "graph = builder.compile(checkpointer=memory)\n",
        "display(Image(graph.get_graph().draw_mermaid_png()))\n"
      ],
      "metadata": {
        "colab": {
          "base_uri": "https://localhost:8080/",
          "height": 350
        },
        "id": "iR03mNszGTFI",
        "outputId": "f091c716-1046-4875-b235-48f64fa45532"
      },
      "execution_count": 4,
      "outputs": [
        {
          "output_type": "display_data",
          "data": {
            "image/png": "[encoded data removed]",
            "text/plain": [
              "<IPython.core.display.Image object>"
            ]
          },
          "metadata": {}
        }
      ]
    },
    {
      "cell_type": "code",
      "source": [
        "# Create a thread\n",
        "config = {\"configurable\": {\"thread_id\": \"1\"}}\n",
        "\n",
        "# Start conversation\n",
        "input_message = HumanMessage(content=\"hi! I'm Farhan\")\n",
        "output = graph.invoke({\"messages\": [input_message]}, config)\n",
        "for m in output['messages'][-1:]:\n",
        "    m.pretty_print()\n",
        "\n",
        "input_message = HumanMessage(content=\"what's my name?\")\n",
        "output = graph.invoke({\"messages\": [input_message]}, config)\n",
        "for m in output['messages'][-1:]:\n",
        "    m.pretty_print()\n",
        "\n",
        "input_message = HumanMessage(content=\"i like the 49ers!\")\n",
        "output = graph.invoke({\"messages\": [input_message]}, config)\n",
        "for m in output['messages'][-1:]:\n",
        "    m.pretty_print()"
      ],
      "metadata": {
        "colab": {
          "base_uri": "https://localhost:8080/"
        },
        "id": "dZ5rNGWZJ9dZ",
        "outputId": "aa8158ac-f248-44ca-f24b-bc40dc0c5ed2"
      },
      "execution_count": 5,
      "outputs": [
        {
          "output_type": "stream",
          "name": "stdout",
          "text": [
            "==================================\u001b[1m Ai Message \u001b[0m==================================\n",
            "\n",
            "Hello Farhan! 👋 \n",
            "\n",
            "It's nice to meet you. What can I do for you today? 😊\n",
            "==================================\u001b[1m Ai Message \u001b[0m==================================\n",
            "\n",
            "Your name is Farhan!  You told me when you first introduced yourself. 😄 \n",
            "\n",
            "\n",
            "Is there anything else I can help you with?\n",
            "==================================\u001b[1m Ai Message \u001b[0m==================================\n",
            "\n",
            "That's awesome, Farhan!  🏈  The 49ers are a great team.  Are you excited for the season?  Who's your favorite player?  🤔\n"
          ]
        }
      ]
    },
    {
      "cell_type": "code",
      "source": [
        "graph.get_state(config).values.get(\"summary\",\"\")"
      ],
      "metadata": {
        "colab": {
          "base_uri": "https://localhost:8080/",
          "height": 35
        },
        "id": "39-IyJ2tK4D2",
        "outputId": "9de5018b-4045-44ac-c378-4bde9311a866"
      },
      "execution_count": 6,
      "outputs": [
        {
          "output_type": "execute_result",
          "data": {
            "text/plain": [
              "''"
            ],
            "application/vnd.google.colaboratory.intrinsic+json": {
              "type": "string"
            }
          },
          "metadata": {},
          "execution_count": 6
        }
      ]
    },
    {
      "cell_type": "code",
      "source": [
        "input_message = HumanMessage(content=\"i like Nick Bosa, isn't he the highest paid defensive player?\")\n",
        "output = graph.invoke({\"messages\": [input_message]}, config)\n",
        "for m in output['messages'][-1:]:\n",
        "    m.pretty_print()"
      ],
      "metadata": {
        "colab": {
          "base_uri": "https://localhost:8080/"
        },
        "id": "ljuMgETOLSON",
        "outputId": "e38b682a-9887-44f1-e93a-f44fc741fbc6"
      },
      "execution_count": 7,
      "outputs": [
        {
          "output_type": "stream",
          "name": "stdout",
          "text": [
            "==================================\u001b[1m Ai Message \u001b[0m==================================\n",
            "\n",
            "You are absolutely right! Nick Bosa is a phenomenal player and he recently signed the biggest contract ever for a defensive player.  💪  What do you like most about his game?\n"
          ]
        }
      ]
    },
    {
      "cell_type": "code",
      "source": [
        "input_message = HumanMessage(content=\"Can you help with maths questions?\")\n",
        "output = graph.invoke({\"messages\": [input_message]}, config)\n",
        "for m in output['messages'][-1:]:\n",
        "    m.pretty_print()"
      ],
      "metadata": {
        "colab": {
          "base_uri": "https://localhost:8080/"
        },
        "id": "3XaDyjs2MCS0",
        "outputId": "ec8e6184-ead0-421b-9238-885cde811f97"
      },
      "execution_count": 8,
      "outputs": [
        {
          "output_type": "stream",
          "name": "stdout",
          "text": [
            "==================================\u001b[1m Ai Message \u001b[0m==================================\n",
            "\n",
            "I sure can! I'm pretty good at math. \n",
            "\n",
            "To help me best assist you, please tell me:\n",
            "\n",
            "* **What kind of math question is it?** (e.g., algebra, calculus, geometry, arithmetic)\n",
            "* **Can you write out the full question?**\n",
            "* **What have you tried so far?**  \n",
            "\n",
            "The more information you give me, the better I can understand your question and provide a helpful solution. 😊\n"
          ]
        }
      ]
    },
    {
      "cell_type": "code",
      "source": [
        "input_message = HumanMessage(content=\"Can you help with differential calculus\")\n",
        "output = graph.invoke({\"messages\": [input_message]}, config)\n",
        "for m in output['messages'][-1:]:\n",
        "    m.pretty_print()"
      ],
      "metadata": {
        "colab": {
          "base_uri": "https://localhost:8080/"
        },
        "id": "f_5HprP6MWoV",
        "outputId": "51512191-bece-48fc-96b3-85077f5b8d99"
      },
      "execution_count": 9,
      "outputs": [
        {
          "output_type": "stream",
          "name": "stdout",
          "text": [
            "==================================\u001b[1m Ai Message \u001b[0m==================================\n",
            "\n",
            "Absolutely! I can help with differential calculus.  \n",
            "\n",
            "To get started, tell me:\n",
            "\n",
            "* **What specific topic within differential calculus are you working on?**  (e.g., limits, derivatives, chain rule, product rule, quotient rule, related rates)\n",
            "* **Do you have a particular problem you'd like help with? If so, please write it out.**\n",
            "* **What have you tried so far?** \n",
            "\n",
            "The more context you give me, the more effectively I can guide you through the solution.  Let's tackle this together! 💪 🧮\n"
          ]
        }
      ]
    },
    {
      "cell_type": "code",
      "source": [
        "input_message = HumanMessage(content=\"I love DE\")\n",
        "output = graph.invoke({\"messages\": [input_message]}, config)\n",
        "for m in output['messages'][-1:]:\n",
        "    m.pretty_print()"
      ],
      "metadata": {
        "colab": {
          "base_uri": "https://localhost:8080/"
        },
        "id": "t-_zfv3CMlL7",
        "outputId": "f3c1d517-3e69-4b66-fe8d-a57d01398789"
      },
      "execution_count": 10,
      "outputs": [
        {
          "output_type": "stream",
          "name": "stdout",
          "text": [
            "==================================\u001b[1m Ai Message \u001b[0m==================================\n",
            "\n",
            "That's great!  DE stands for Differential Equations, right?  \n",
            "\n",
            "It's a fascinating field. What specifically about DEs do you enjoy?  \n",
            "\n",
            "* Are you working on a particular type of DE right now? \n",
            "* Do you have a favorite application of DEs?\n",
            "*  Is there anything specific you'd like to discuss or get help with regarding DEs? \n",
            "\n",
            "\n",
            "Let me know, and I'll do my best to engage in a meaningful conversation about them! 😊\n"
          ]
        }
      ]
    },
    {
      "cell_type": "code",
      "source": [
        "graph.get_state(config).values.get(\"summary\",\"\")"
      ],
      "metadata": {
        "colab": {
          "base_uri": "https://localhost:8080/",
          "height": 87
        },
        "id": "NWFOLyMkM07S",
        "outputId": "d3a7ddca-c30a-4d25-a879-2088976b20fc"
      },
      "execution_count": 11,
      "outputs": [
        {
          "output_type": "execute_result",
          "data": {
            "text/plain": [
              "'Farhan introduced himself and said he likes the San Francisco 49ers. He mentioned that Nick Bosa is his favorite player and knows he holds the record for the highest paid defensive player.  \\n\\nFarhan then asked if I could help with math questions and I confirmed that I could. He specifically requested help with differential calculus. We discussed his interest in the topic and he mentioned  he likes DE.  He clarifies that DE stands for Differential Equations and explained he enjoys learning about them. \\n\\n\\n\\n'"
            ],
            "application/vnd.google.colaboratory.intrinsic+json": {
              "type": "string"
            }
          },
          "metadata": {},
          "execution_count": 11
        }
      ]
    },
    {
      "cell_type": "code",
      "source": [],
      "metadata": {
        "id": "6mZyjD6zM92K"
      },
      "execution_count": null,
      "outputs": []
    }
  ]
}